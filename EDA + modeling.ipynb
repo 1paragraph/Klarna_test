{
 "cells": [
  {
   "cell_type": "code",
   "execution_count": 424,
   "id": "3e18b3a5",
   "metadata": {
    "ExecuteTime": {
     "end_time": "2022-03-21T12:14:04.407119Z",
     "start_time": "2022-03-21T12:14:04.402121Z"
    }
   },
   "outputs": [],
   "source": [
    "import pandas as pd\n",
    "import numpy as np\n",
    "import pickle\n",
    "\n",
    "from pathlib import Path\n",
    "\n",
    "import matplotlib.pyplot as plt\n",
    "\n",
    "from sklearn.preprocessing import MinMaxScaler as scaler\n",
    "from sklearn.preprocessing import OneHotEncoder as OHE\n",
    "\n",
    "from sklearn.linear_model import LogisticRegressionCV\n",
    "from sklearn.linear_model import LogisticRegression\n",
    "from sklearn.ensemble import RandomForestClassifier\n",
    "\n",
    "from sklearn.metrics import classification_report\n",
    "\n",
    "from sklearn.model_selection import train_test_split"
   ]
  },
  {
   "cell_type": "code",
   "execution_count": 425,
   "id": "ee0683e8",
   "metadata": {
    "ExecuteTime": {
     "end_time": "2022-03-21T12:14:04.422119Z",
     "start_time": "2022-03-21T12:14:04.408121Z"
    }
   },
   "outputs": [],
   "source": [
    "def fitting(clf, data_tr, y_train):\n",
    "    clf.fit(data_tr, y_train.reshape(-1, 1))\n",
    "    return clf"
   ]
  },
  {
   "cell_type": "code",
   "execution_count": 426,
   "id": "2296acd4",
   "metadata": {
    "ExecuteTime": {
     "end_time": "2022-03-21T12:14:04.438119Z",
     "start_time": "2022-03-21T12:14:04.423122Z"
    }
   },
   "outputs": [],
   "source": [
    "def preds(clf):\n",
    "    a = clf.predict(data[X_train]).sum()\n",
    "    b = clf.predict(data[X_test]).sum()\n",
    "    \n",
    "    print(classification_report(y_train, clf.predict(data[X_train])))\n",
    "    print(classification_report(y_test, clf.predict(data[X_test])))\n",
    "    \n",
    "    return a, b"
   ]
  },
  {
   "cell_type": "code",
   "execution_count": 427,
   "id": "0736db30",
   "metadata": {
    "ExecuteTime": {
     "end_time": "2022-03-21T12:14:04.692119Z",
     "start_time": "2022-03-21T12:14:04.440120Z"
    }
   },
   "outputs": [],
   "source": [
    "current_path = Path.cwd()\n",
    "\n",
    "df = pd.read_csv(current_path.joinpath('dataset.csv'), delimiter=';')"
   ]
  },
  {
   "cell_type": "markdown",
   "id": "57229784",
   "metadata": {},
   "source": [
    "## Data"
   ]
  },
  {
   "cell_type": "code",
   "execution_count": 428,
   "id": "94c4775c",
   "metadata": {
    "ExecuteTime": {
     "end_time": "2022-03-21T12:14:04.708119Z",
     "start_time": "2022-03-21T12:14:04.693121Z"
    },
    "scrolled": true
   },
   "outputs": [
    {
     "data": {
      "text/plain": [
       "uuid                                       0\n",
       "default                                10000\n",
       "account_amount_added_12_24m                0\n",
       "account_days_in_dc_12_24m               1153\n",
       "account_days_in_rem_12_24m              1153\n",
       "account_days_in_term_12_24m             1153\n",
       "account_incoming_debt_vs_paid_0_24m     5958\n",
       "account_status                          5439\n",
       "account_worst_status_0_3m               5439\n",
       "account_worst_status_12_24m             6706\n",
       "account_worst_status_3_6m               5764\n",
       "account_worst_status_6_12m              6037\n",
       "age                                        0\n",
       "avg_payment_span_0_12m                  2368\n",
       "avg_payment_span_0_3m                   4923\n",
       "merchant_category                          0\n",
       "merchant_group                             0\n",
       "has_paid                                   0\n",
       "max_paid_inv_0_12m                         0\n",
       "max_paid_inv_0_24m                         0\n",
       "name_in_email                              0\n",
       "num_active_div_by_paid_inv_0_12m        2281\n",
       "num_active_inv                             0\n",
       "num_arch_dc_0_12m                          0\n",
       "num_arch_dc_12_24m                         0\n",
       "num_arch_ok_0_12m                          0\n",
       "num_arch_ok_12_24m                         0\n",
       "num_arch_rem_0_12m                         0\n",
       "num_arch_written_off_0_12m              1773\n",
       "num_arch_written_off_12_24m             1773\n",
       "num_unpaid_bills                           0\n",
       "status_last_archived_0_24m                 0\n",
       "status_2nd_last_archived_0_24m             0\n",
       "status_3rd_last_archived_0_24m             0\n",
       "status_max_archived_0_6_months             0\n",
       "status_max_archived_0_12_months            0\n",
       "status_max_archived_0_24_months            0\n",
       "recovery_debt                              0\n",
       "sum_capital_paid_account_0_12m             0\n",
       "sum_capital_paid_account_12_24m            0\n",
       "sum_paid_inv_0_12m                         0\n",
       "time_hours                                 0\n",
       "worst_status_active_inv                 6975\n",
       "dtype: int64"
      ]
     },
     "execution_count": 428,
     "metadata": {},
     "output_type": "execute_result"
    }
   ],
   "source": [
    "df[df['default'].isna()].isnull().sum()"
   ]
  },
  {
   "cell_type": "code",
   "execution_count": 429,
   "id": "233c86b7",
   "metadata": {
    "ExecuteTime": {
     "end_time": "2022-03-21T12:14:04.724119Z",
     "start_time": "2022-03-21T12:14:04.709121Z"
    }
   },
   "outputs": [],
   "source": [
    "df_valid = df[df['default'].isna()].copy()"
   ]
  },
  {
   "cell_type": "code",
   "execution_count": 430,
   "id": "e5619788",
   "metadata": {
    "ExecuteTime": {
     "end_time": "2022-03-21T12:14:04.756119Z",
     "start_time": "2022-03-21T12:14:04.725121Z"
    }
   },
   "outputs": [],
   "source": [
    "df = df[~df['default'].isna()].copy()"
   ]
  },
  {
   "cell_type": "code",
   "execution_count": 431,
   "id": "a1fd496b",
   "metadata": {
    "ExecuteTime": {
     "end_time": "2022-03-21T12:14:04.850124Z",
     "start_time": "2022-03-21T12:14:04.757120Z"
    },
    "scrolled": false
   },
   "outputs": [
    {
     "data": {
      "text/plain": [
       "account_incoming_debt_vs_paid_0_24m    53357\n",
       "account_status                         48934\n",
       "account_worst_status_0_3m              48934\n",
       "account_worst_status_12_24m            60055\n",
       "account_worst_status_3_6m              51938\n",
       "account_worst_status_6_12m             54313\n",
       "avg_payment_span_0_12m                 21468\n",
       "avg_payment_span_0_3m                  44382\n",
       "num_active_div_by_paid_inv_0_12m       20658\n",
       "worst_status_active_inv                62540\n",
       "dtype: int64"
      ]
     },
     "execution_count": 431,
     "metadata": {},
     "output_type": "execute_result"
    }
   ],
   "source": [
    "df.isnull().sum()[df.isnull().sum() > 20000]"
   ]
  },
  {
   "cell_type": "code",
   "execution_count": 432,
   "id": "fed5b7fd",
   "metadata": {
    "ExecuteTime": {
     "end_time": "2022-03-21T12:14:04.866120Z",
     "start_time": "2022-03-21T12:14:04.851124Z"
    },
    "scrolled": true
   },
   "outputs": [
    {
     "data": {
      "text/plain": [
       "uuid                                      0\n",
       "default                                   0\n",
       "account_amount_added_12_24m               0\n",
       "account_days_in_dc_12_24m                91\n",
       "account_days_in_rem_12_24m               91\n",
       "account_days_in_term_12_24m              91\n",
       "account_incoming_debt_vs_paid_0_24m     574\n",
       "account_status                          452\n",
       "account_worst_status_0_3m               452\n",
       "account_worst_status_12_24m             748\n",
       "account_worst_status_3_6m               570\n",
       "account_worst_status_6_12m              632\n",
       "age                                       0\n",
       "avg_payment_span_0_12m                  618\n",
       "avg_payment_span_0_3m                  1029\n",
       "merchant_category                         0\n",
       "merchant_group                            0\n",
       "has_paid                                  0\n",
       "max_paid_inv_0_12m                        0\n",
       "max_paid_inv_0_24m                        0\n",
       "name_in_email                             0\n",
       "num_active_div_by_paid_inv_0_12m        573\n",
       "num_active_inv                            0\n",
       "num_arch_dc_0_12m                         0\n",
       "num_arch_dc_12_24m                        0\n",
       "num_arch_ok_0_12m                         0\n",
       "num_arch_ok_12_24m                        0\n",
       "num_arch_rem_0_12m                        0\n",
       "num_arch_written_off_0_12m              460\n",
       "num_arch_written_off_12_24m             460\n",
       "num_unpaid_bills                          0\n",
       "status_last_archived_0_24m                0\n",
       "status_2nd_last_archived_0_24m            0\n",
       "status_3rd_last_archived_0_24m            0\n",
       "status_max_archived_0_6_months            0\n",
       "status_max_archived_0_12_months           0\n",
       "status_max_archived_0_24_months           0\n",
       "recovery_debt                             0\n",
       "sum_capital_paid_account_0_12m            0\n",
       "sum_capital_paid_account_12_24m           0\n",
       "sum_paid_inv_0_12m                        0\n",
       "time_hours                                0\n",
       "worst_status_active_inv                 771\n",
       "dtype: int64"
      ]
     },
     "execution_count": 432,
     "metadata": {},
     "output_type": "execute_result"
    }
   ],
   "source": [
    "df[df['default'] == 1].isnull().sum()"
   ]
  },
  {
   "cell_type": "code",
   "execution_count": 433,
   "id": "f8e40575",
   "metadata": {
    "ExecuteTime": {
     "end_time": "2022-03-21T12:14:04.976119Z",
     "start_time": "2022-03-21T12:14:04.869119Z"
    },
    "scrolled": true
   },
   "outputs": [
    {
     "data": {
      "text/html": [
       "<div>\n",
       "<style scoped>\n",
       "    .dataframe tbody tr th:only-of-type {\n",
       "        vertical-align: middle;\n",
       "    }\n",
       "\n",
       "    .dataframe tbody tr th {\n",
       "        vertical-align: top;\n",
       "    }\n",
       "\n",
       "    .dataframe thead th {\n",
       "        text-align: right;\n",
       "    }\n",
       "</style>\n",
       "<table border=\"1\" class=\"dataframe\">\n",
       "  <thead>\n",
       "    <tr style=\"text-align: right;\">\n",
       "      <th></th>\n",
       "      <th>account_incoming_debt_vs_paid_0_24m</th>\n",
       "      <th>account_status</th>\n",
       "      <th>account_worst_status_0_3m</th>\n",
       "      <th>account_worst_status_12_24m</th>\n",
       "      <th>account_worst_status_3_6m</th>\n",
       "      <th>account_worst_status_6_12m</th>\n",
       "      <th>avg_payment_span_0_12m</th>\n",
       "      <th>avg_payment_span_0_3m</th>\n",
       "      <th>num_active_div_by_paid_inv_0_12m</th>\n",
       "      <th>worst_status_active_inv</th>\n",
       "    </tr>\n",
       "  </thead>\n",
       "  <tbody>\n",
       "    <tr>\n",
       "      <th>0</th>\n",
       "      <td>0.0</td>\n",
       "      <td>1.0</td>\n",
       "      <td>1.0</td>\n",
       "      <td>NaN</td>\n",
       "      <td>1.0</td>\n",
       "      <td>NaN</td>\n",
       "      <td>12.692308</td>\n",
       "      <td>8.333333</td>\n",
       "      <td>0.153846</td>\n",
       "      <td>1.0</td>\n",
       "    </tr>\n",
       "    <tr>\n",
       "      <th>1</th>\n",
       "      <td>NaN</td>\n",
       "      <td>1.0</td>\n",
       "      <td>1.0</td>\n",
       "      <td>1.0</td>\n",
       "      <td>1.0</td>\n",
       "      <td>1.0</td>\n",
       "      <td>25.833333</td>\n",
       "      <td>25.000000</td>\n",
       "      <td>0.000000</td>\n",
       "      <td>NaN</td>\n",
       "    </tr>\n",
       "    <tr>\n",
       "      <th>2</th>\n",
       "      <td>NaN</td>\n",
       "      <td>NaN</td>\n",
       "      <td>NaN</td>\n",
       "      <td>NaN</td>\n",
       "      <td>NaN</td>\n",
       "      <td>NaN</td>\n",
       "      <td>20.000000</td>\n",
       "      <td>18.000000</td>\n",
       "      <td>0.071429</td>\n",
       "      <td>1.0</td>\n",
       "    </tr>\n",
       "    <tr>\n",
       "      <th>3</th>\n",
       "      <td>NaN</td>\n",
       "      <td>NaN</td>\n",
       "      <td>NaN</td>\n",
       "      <td>NaN</td>\n",
       "      <td>NaN</td>\n",
       "      <td>NaN</td>\n",
       "      <td>4.687500</td>\n",
       "      <td>4.888889</td>\n",
       "      <td>0.031250</td>\n",
       "      <td>1.0</td>\n",
       "    </tr>\n",
       "    <tr>\n",
       "      <th>4</th>\n",
       "      <td>NaN</td>\n",
       "      <td>NaN</td>\n",
       "      <td>NaN</td>\n",
       "      <td>NaN</td>\n",
       "      <td>NaN</td>\n",
       "      <td>NaN</td>\n",
       "      <td>13.000000</td>\n",
       "      <td>13.000000</td>\n",
       "      <td>0.000000</td>\n",
       "      <td>NaN</td>\n",
       "    </tr>\n",
       "    <tr>\n",
       "      <th>...</th>\n",
       "      <td>...</td>\n",
       "      <td>...</td>\n",
       "      <td>...</td>\n",
       "      <td>...</td>\n",
       "      <td>...</td>\n",
       "      <td>...</td>\n",
       "      <td>...</td>\n",
       "      <td>...</td>\n",
       "      <td>...</td>\n",
       "      <td>...</td>\n",
       "    </tr>\n",
       "    <tr>\n",
       "      <th>89971</th>\n",
       "      <td>NaN</td>\n",
       "      <td>NaN</td>\n",
       "      <td>NaN</td>\n",
       "      <td>NaN</td>\n",
       "      <td>NaN</td>\n",
       "      <td>NaN</td>\n",
       "      <td>NaN</td>\n",
       "      <td>NaN</td>\n",
       "      <td>NaN</td>\n",
       "      <td>NaN</td>\n",
       "    </tr>\n",
       "    <tr>\n",
       "      <th>89972</th>\n",
       "      <td>NaN</td>\n",
       "      <td>NaN</td>\n",
       "      <td>NaN</td>\n",
       "      <td>NaN</td>\n",
       "      <td>NaN</td>\n",
       "      <td>NaN</td>\n",
       "      <td>10.166667</td>\n",
       "      <td>8.000000</td>\n",
       "      <td>0.000000</td>\n",
       "      <td>NaN</td>\n",
       "    </tr>\n",
       "    <tr>\n",
       "      <th>89973</th>\n",
       "      <td>NaN</td>\n",
       "      <td>1.0</td>\n",
       "      <td>1.0</td>\n",
       "      <td>1.0</td>\n",
       "      <td>1.0</td>\n",
       "      <td>1.0</td>\n",
       "      <td>13.555556</td>\n",
       "      <td>15.000000</td>\n",
       "      <td>0.000000</td>\n",
       "      <td>NaN</td>\n",
       "    </tr>\n",
       "    <tr>\n",
       "      <th>89974</th>\n",
       "      <td>NaN</td>\n",
       "      <td>NaN</td>\n",
       "      <td>NaN</td>\n",
       "      <td>NaN</td>\n",
       "      <td>NaN</td>\n",
       "      <td>NaN</td>\n",
       "      <td>13.400000</td>\n",
       "      <td>12.500000</td>\n",
       "      <td>0.000000</td>\n",
       "      <td>NaN</td>\n",
       "    </tr>\n",
       "    <tr>\n",
       "      <th>89975</th>\n",
       "      <td>NaN</td>\n",
       "      <td>NaN</td>\n",
       "      <td>NaN</td>\n",
       "      <td>NaN</td>\n",
       "      <td>NaN</td>\n",
       "      <td>NaN</td>\n",
       "      <td>34.500000</td>\n",
       "      <td>NaN</td>\n",
       "      <td>0.000000</td>\n",
       "      <td>NaN</td>\n",
       "    </tr>\n",
       "  </tbody>\n",
       "</table>\n",
       "<p>89976 rows × 10 columns</p>\n",
       "</div>"
      ],
      "text/plain": [
       "       account_incoming_debt_vs_paid_0_24m  account_status  \\\n",
       "0                                      0.0             1.0   \n",
       "1                                      NaN             1.0   \n",
       "2                                      NaN             NaN   \n",
       "3                                      NaN             NaN   \n",
       "4                                      NaN             NaN   \n",
       "...                                    ...             ...   \n",
       "89971                                  NaN             NaN   \n",
       "89972                                  NaN             NaN   \n",
       "89973                                  NaN             1.0   \n",
       "89974                                  NaN             NaN   \n",
       "89975                                  NaN             NaN   \n",
       "\n",
       "       account_worst_status_0_3m  account_worst_status_12_24m  \\\n",
       "0                            1.0                          NaN   \n",
       "1                            1.0                          1.0   \n",
       "2                            NaN                          NaN   \n",
       "3                            NaN                          NaN   \n",
       "4                            NaN                          NaN   \n",
       "...                          ...                          ...   \n",
       "89971                        NaN                          NaN   \n",
       "89972                        NaN                          NaN   \n",
       "89973                        1.0                          1.0   \n",
       "89974                        NaN                          NaN   \n",
       "89975                        NaN                          NaN   \n",
       "\n",
       "       account_worst_status_3_6m  account_worst_status_6_12m  \\\n",
       "0                            1.0                         NaN   \n",
       "1                            1.0                         1.0   \n",
       "2                            NaN                         NaN   \n",
       "3                            NaN                         NaN   \n",
       "4                            NaN                         NaN   \n",
       "...                          ...                         ...   \n",
       "89971                        NaN                         NaN   \n",
       "89972                        NaN                         NaN   \n",
       "89973                        1.0                         1.0   \n",
       "89974                        NaN                         NaN   \n",
       "89975                        NaN                         NaN   \n",
       "\n",
       "       avg_payment_span_0_12m  avg_payment_span_0_3m  \\\n",
       "0                   12.692308               8.333333   \n",
       "1                   25.833333              25.000000   \n",
       "2                   20.000000              18.000000   \n",
       "3                    4.687500               4.888889   \n",
       "4                   13.000000              13.000000   \n",
       "...                       ...                    ...   \n",
       "89971                     NaN                    NaN   \n",
       "89972               10.166667               8.000000   \n",
       "89973               13.555556              15.000000   \n",
       "89974               13.400000              12.500000   \n",
       "89975               34.500000                    NaN   \n",
       "\n",
       "       num_active_div_by_paid_inv_0_12m  worst_status_active_inv  \n",
       "0                              0.153846                      1.0  \n",
       "1                              0.000000                      NaN  \n",
       "2                              0.071429                      1.0  \n",
       "3                              0.031250                      1.0  \n",
       "4                              0.000000                      NaN  \n",
       "...                                 ...                      ...  \n",
       "89971                               NaN                      NaN  \n",
       "89972                          0.000000                      NaN  \n",
       "89973                          0.000000                      NaN  \n",
       "89974                          0.000000                      NaN  \n",
       "89975                          0.000000                      NaN  \n",
       "\n",
       "[89976 rows x 10 columns]"
      ]
     },
     "execution_count": 433,
     "metadata": {},
     "output_type": "execute_result"
    }
   ],
   "source": [
    "df[df.isnull().sum()[df.isnull().sum() > 20000].index]"
   ]
  },
  {
   "cell_type": "markdown",
   "id": "87584cd0",
   "metadata": {},
   "source": [
    "### columns processing"
   ]
  },
  {
   "cell_type": "code",
   "execution_count": 434,
   "id": "40e9783d",
   "metadata": {
    "ExecuteTime": {
     "end_time": "2022-03-21T12:14:04.992119Z",
     "start_time": "2022-03-21T12:14:04.977121Z"
    }
   },
   "outputs": [],
   "source": [
    "#treat columns with less than 10 unique values and initially numerical as categorical, fillna 999\n",
    "#fill columns with numerical values with median"
   ]
  },
  {
   "cell_type": "code",
   "execution_count": 435,
   "id": "961f2b64",
   "metadata": {
    "ExecuteTime": {
     "end_time": "2022-03-21T12:14:05.942122Z",
     "start_time": "2022-03-21T12:14:04.993121Z"
    },
    "scrolled": true
   },
   "outputs": [
    {
     "data": {
      "image/png": "[encoded data removed]",
      "text/plain": [
       "<Figure size 432x288 with 1 Axes>"
      ]
     },
     "metadata": {
      "needs_background": "light"
     },
     "output_type": "display_data"
    },
    {
     "data": {
      "image/png": "[encoded data removed]",
      "text/plain": [
       "<Figure size 432x288 with 1 Axes>"
      ]
     },
     "metadata": {
      "needs_background": "light"
     },
     "output_type": "display_data"
    },
    {
     "data": {
      "image/png": "[encoded data removed]",
      "text/plain": [
       "<Figure size 432x288 with 1 Axes>"
      ]
     },
     "metadata": {
      "needs_background": "light"
     },
     "output_type": "display_data"
    },
    {
     "data": {
      "image/png": "[encoded data removed]",
      "text/plain": [
       "<Figure size 432x288 with 1 Axes>"
      ]
     },
     "metadata": {
      "needs_background": "light"
     },
     "output_type": "display_data"
    },
    {
     "data": {
      "image/png": "[encoded data removed]",
      "text/plain": [
       "<Figure size 432x288 with 1 Axes>"
      ]
     },
     "metadata": {
      "needs_background": "light"
     },
     "output_type": "display_data"
    },
    {
     "data": {
      "image/png": "[encoded data removed]",
      "text/plain": [
       "<Figure size 432x288 with 1 Axes>"
      ]
     },
     "metadata": {
      "needs_background": "light"
     },
     "output_type": "display_data"
    },
    {
     "data": {
      "image/png": "[encoded data removed]",
      "text/plain": [
       "<Figure size 432x288 with 1 Axes>"
      ]
     },
     "metadata": {
      "needs_background": "light"
     },
     "output_type": "display_data"
    }
   ],
   "source": [
    "cols_numerical = []\n",
    "cols_num_to_categorical = []\n",
    "cols_wo_na = []\n",
    "\n",
    "for c in df:\n",
    "    if (df[c].dtype == 'float64' or df[c].dtype == 'int64') and df[c].isnull().sum() > 0 and len(df[c].unique()) > 10:\n",
    "        df[c].hist(bins = 20)\n",
    "        plt.title(f'{c}_{df[c].isnull().sum()}')\n",
    "        plt.show()\n",
    "        cols_numerical.append(c)\n",
    "    elif c != 'uuid' and c != 'default' and df[c].dtype != 'object' and df[c].isnull().sum() > 0:\n",
    "        cols_num_to_categorical.append(c)\n",
    "    else:\n",
    "        cols_wo_na.append(c)"
   ]
  },
  {
   "cell_type": "code",
   "execution_count": null,
   "id": "71513917",
   "metadata": {},
   "outputs": [],
   "source": []
  },
  {
   "cell_type": "code",
   "execution_count": 436,
   "id": "9114b9c3",
   "metadata": {
    "ExecuteTime": {
     "end_time": "2022-03-21T12:14:07.536119Z",
     "start_time": "2022-03-21T12:14:05.943119Z"
    }
   },
   "outputs": [
    {
     "data": {
      "image/png": "[encoded data removed]",
      "text/plain": [
       "<Figure size 432x288 with 1 Axes>"
      ]
     },
     "metadata": {
      "needs_background": "light"
     },
     "output_type": "display_data"
    },
    {
     "data": {
      "image/png": "[encoded data removed]",
      "text/plain": [
       "<Figure size 432x288 with 1 Axes>"
      ]
     },
     "metadata": {
      "needs_background": "light"
     },
     "output_type": "display_data"
    },
    {
     "data": {
      "image/png": "[encoded data removed]",
      "text/plain": [
       "<Figure size 432x288 with 1 Axes>"
      ]
     },
     "metadata": {
      "needs_background": "light"
     },
     "output_type": "display_data"
    },
    {
     "data": {
      "image/png": "[encoded data removed]",
      "text/plain": [
       "<Figure size 432x288 with 1 Axes>"
      ]
     },
     "metadata": {
      "needs_background": "light"
     },
     "output_type": "display_data"
    },
    {
     "data": {
      "image/png": "[encoded data removed]",
      "text/plain": [
       "<Figure size 432x288 with 1 Axes>"
      ]
     },
     "metadata": {
      "needs_background": "light"
     },
     "output_type": "display_data"
    },
    {
     "data": {
      "image/png": "[encoded data removed]",
      "text/plain": [
       "<Figure size 432x288 with 1 Axes>"
      ]
     },
     "metadata": {
      "needs_background": "light"
     },
     "output_type": "display_data"
    },
    {
     "data": {
      "image/png": "[encoded data removed]",
      "text/plain": [
       "<Figure size 432x288 with 1 Axes>"
      ]
     },
     "metadata": {
      "needs_background": "light"
     },
     "output_type": "display_data"
    },
    {
     "data": {
      "image/png": "[encoded data removed]",
      "text/plain": [
       "<Figure size 432x288 with 1 Axes>"
      ]
     },
     "metadata": {
      "needs_background": "light"
     },
     "output_type": "display_data"
    },
    {
     "data": {
      "image/png": "[encoded data removed]",
      "text/plain": [
       "<Figure size 432x288 with 1 Axes>"
      ]
     },
     "metadata": {
      "needs_background": "light"
     },
     "output_type": "display_data"
    },
    {
     "data": {
      "image/png": "[encoded data removed]",
      "text/plain": [
       "<Figure size 432x288 with 1 Axes>"
      ]
     },
     "metadata": {
      "needs_background": "light"
     },
     "output_type": "display_data"
    },
    {
     "data": {
      "image/png": "[encoded data removed]",
      "text/plain": [
       "<Figure size 432x288 with 1 Axes>"
      ]
     },
     "metadata": {
      "needs_background": "light"
     },
     "output_type": "display_data"
    },
    {
     "data": {
      "image/png": "[encoded data removed]",
      "text/plain": [
       "<Figure size 432x288 with 1 Axes>"
      ]
     },
     "metadata": {
      "needs_background": "light"
     },
     "output_type": "display_data"
    },
    {
     "data": {
      "image/png": "[encoded data removed]",
      "text/plain": [
       "<Figure size 432x288 with 1 Axes>"
      ]
     },
     "metadata": {
      "needs_background": "light"
     },
     "output_type": "display_data"
    },
    {
     "data": {
      "image/png": "[encoded data removed]",
      "text/plain": [
       "<Figure size 432x288 with 1 Axes>"
      ]
     },
     "metadata": {
      "needs_background": "light"
     },
     "output_type": "display_data"
    },
    {
     "data": {
      "image/png": "[encoded data removed]",
      "text/plain": [
       "<Figure size 432x288 with 1 Axes>"
      ]
     },
     "metadata": {
      "needs_background": "light"
     },
     "output_type": "display_data"
    },
    {
     "data": {
      "image/png": "[encoded data removed]",
      "text/plain": [
       "<Figure size 432x288 with 1 Axes>"
      ]
     },
     "metadata": {
      "needs_background": "light"
     },
     "output_type": "display_data"
    }
   ],
   "source": [
    "cols_numerical_wo_na = []\n",
    "cols_num_to_categorical_wo_na = []\n",
    "others = []\n",
    "\n",
    "for c in cols_wo_na:\n",
    "    if (df[c].dtype == 'float64' or df[c].dtype == 'int64') and len(df[c].unique()) > 10:\n",
    "            df[c].hist(bins = 20)\n",
    "            plt.title(f'{c}_{df[c].isnull().sum()}')\n",
    "            plt.show()\n",
    "            cols_numerical_wo_na.append(c)\n",
    "    elif c != 'uuid' and c != 'default' and df[c].dtype != 'object':\n",
    "        cols_num_to_categorical_wo_na.append(c)\n",
    "    elif c != 'uuid' and c != 'default':\n",
    "        others.append(c)\n",
    "    else:\n",
    "        None"
   ]
  },
  {
   "cell_type": "code",
   "execution_count": 437,
   "id": "f40907b8",
   "metadata": {
    "ExecuteTime": {
     "end_time": "2022-03-21T12:14:07.552121Z",
     "start_time": "2022-03-21T12:14:07.537122Z"
    }
   },
   "outputs": [],
   "source": [
    "num_cols = cols_numerical + cols_numerical_wo_na"
   ]
  },
  {
   "cell_type": "code",
   "execution_count": 438,
   "id": "dfb3ebfa",
   "metadata": {
    "ExecuteTime": {
     "end_time": "2022-03-21T12:14:07.568119Z",
     "start_time": "2022-03-21T12:14:07.553120Z"
    }
   },
   "outputs": [],
   "source": [
    "cat_cols = cols_num_to_categorical + cols_num_to_categorical_wo_na + others"
   ]
  },
  {
   "cell_type": "markdown",
   "id": "4003f4d2",
   "metadata": {},
   "source": [
    "### pickle columns"
   ]
  },
  {
   "cell_type": "code",
   "execution_count": 439,
   "id": "10ddf87a",
   "metadata": {
    "ExecuteTime": {
     "end_time": "2022-03-21T12:14:07.584134Z",
     "start_time": "2022-03-21T12:14:07.569120Z"
    }
   },
   "outputs": [],
   "source": [
    "with open('num_cols.pickle', 'wb') as f:\n",
    "    pickle.dump(num_cols, f)\n",
    "    \n",
    "with open('cat_cols.pickle', 'wb') as f:\n",
    "    pickle.dump(cat_cols, f)"
   ]
  },
  {
   "cell_type": "code",
   "execution_count": 440,
   "id": "50adeb13",
   "metadata": {
    "ExecuteTime": {
     "end_time": "2022-03-21T12:14:07.661137Z",
     "start_time": "2022-03-21T12:14:07.585137Z"
    }
   },
   "outputs": [],
   "source": [
    "df_num = df[df.columns[df.columns.isin(num_cols)]].fillna(df[df.columns[df.columns.isin(cols_numerical + cols_numerical_wo_na)]].median())"
   ]
  },
  {
   "cell_type": "code",
   "execution_count": 441,
   "id": "d63d13e7",
   "metadata": {
    "ExecuteTime": {
     "end_time": "2022-03-21T12:14:07.692136Z",
     "start_time": "2022-03-21T12:14:07.662135Z"
    }
   },
   "outputs": [],
   "source": [
    "df_num = scaler().fit_transform(df_num)"
   ]
  },
  {
   "cell_type": "code",
   "execution_count": 442,
   "id": "bba65e42",
   "metadata": {
    "ExecuteTime": {
     "end_time": "2022-03-21T12:14:07.708135Z",
     "start_time": "2022-03-21T12:14:07.693135Z"
    }
   },
   "outputs": [
    {
     "data": {
      "text/plain": [
       "(89976, 23)"
      ]
     },
     "execution_count": 442,
     "metadata": {},
     "output_type": "execute_result"
    }
   ],
   "source": [
    "df_num.shape"
   ]
  },
  {
   "cell_type": "markdown",
   "id": "a5749072",
   "metadata": {},
   "source": [
    "### One_hot categorical"
   ]
  },
  {
   "cell_type": "code",
   "execution_count": 443,
   "id": "a1c8e9fa",
   "metadata": {
    "ExecuteTime": {
     "end_time": "2022-03-21T12:14:07.723134Z",
     "start_time": "2022-03-21T12:14:07.709138Z"
    }
   },
   "outputs": [],
   "source": [
    "ohe = OHE(sparse = False, handle_unknown = 'ignore')"
   ]
  },
  {
   "cell_type": "code",
   "execution_count": 444,
   "id": "896c5b00",
   "metadata": {
    "ExecuteTime": {
     "end_time": "2022-03-21T12:14:07.786149Z",
     "start_time": "2022-03-21T12:14:07.724137Z"
    },
    "scrolled": true
   },
   "outputs": [],
   "source": [
    "df_cat = df[df.columns[~df.columns.isin(['uuid', 'default'] + num_cols)]].fillna(999).astype('object')"
   ]
  },
  {
   "cell_type": "code",
   "execution_count": 445,
   "id": "dad67976",
   "metadata": {
    "ExecuteTime": {
     "end_time": "2022-03-21T12:14:07.850152Z",
     "start_time": "2022-03-21T12:14:07.787152Z"
    }
   },
   "outputs": [
    {
     "data": {
      "text/plain": [
       "OneHotEncoder(handle_unknown='ignore', sparse=False)"
      ]
     },
     "execution_count": 445,
     "metadata": {},
     "output_type": "execute_result"
    }
   ],
   "source": [
    "ohe.fit(df_cat)"
   ]
  },
  {
   "cell_type": "markdown",
   "id": "17377b00",
   "metadata": {},
   "source": [
    "#### saving ohe"
   ]
  },
  {
   "cell_type": "code",
   "execution_count": 446,
   "id": "28936004",
   "metadata": {
    "ExecuteTime": {
     "end_time": "2022-03-21T12:14:07.866150Z",
     "start_time": "2022-03-21T12:14:07.851150Z"
    }
   },
   "outputs": [],
   "source": [
    "with open('ohe.pickle', 'wb') as f:\n",
    "    pickle.dump(ohe, f)"
   ]
  },
  {
   "cell_type": "markdown",
   "id": "d91d7691",
   "metadata": {},
   "source": [
    "### Transform and data gathering"
   ]
  },
  {
   "cell_type": "code",
   "execution_count": 447,
   "id": "f345f7da",
   "metadata": {
    "ExecuteTime": {
     "end_time": "2022-03-21T12:14:08.246151Z",
     "start_time": "2022-03-21T12:14:07.867151Z"
    }
   },
   "outputs": [],
   "source": [
    "df_cat = ohe.transform(df_cat)"
   ]
  },
  {
   "cell_type": "code",
   "execution_count": 448,
   "id": "4f02b205",
   "metadata": {
    "ExecuteTime": {
     "end_time": "2022-03-21T12:14:08.261150Z",
     "start_time": "2022-03-21T12:14:08.248152Z"
    }
   },
   "outputs": [
    {
     "data": {
      "text/plain": [
       "(89976, 144)"
      ]
     },
     "execution_count": 448,
     "metadata": {},
     "output_type": "execute_result"
    }
   ],
   "source": [
    "df_cat.shape"
   ]
  },
  {
   "cell_type": "code",
   "execution_count": 449,
   "id": "2e26963e",
   "metadata": {
    "ExecuteTime": {
     "end_time": "2022-03-21T12:14:08.292150Z",
     "start_time": "2022-03-21T12:14:08.262151Z"
    },
    "scrolled": true
   },
   "outputs": [],
   "source": [
    "data = np.concatenate((df_num, df_cat), axis = 1)"
   ]
  },
  {
   "cell_type": "markdown",
   "id": "a3ae5952",
   "metadata": {},
   "source": [
    "## Train stage"
   ]
  },
  {
   "cell_type": "code",
   "execution_count": 450,
   "id": "98d5cefb",
   "metadata": {
    "ExecuteTime": {
     "end_time": "2022-03-21T12:14:08.324150Z",
     "start_time": "2022-03-21T12:14:08.294150Z"
    }
   },
   "outputs": [],
   "source": [
    "X_train, X_test, y_train, y_test = train_test_split(df.index, df['default'], test_size = 0.3, random_state = 13, stratify = df['default'], shuffle = True)"
   ]
  },
  {
   "cell_type": "code",
   "execution_count": 451,
   "id": "256ef42e",
   "metadata": {
    "ExecuteTime": {
     "end_time": "2022-03-21T12:14:08.340151Z",
     "start_time": "2022-03-21T12:14:08.327151Z"
    }
   },
   "outputs": [],
   "source": [
    "# w_0 = df['default'].value_counts()[1]/len(df['default'])\n",
    "# w_1 = df['default'].value_counts()[0]/len(df['default'])\n",
    "\n",
    "w_0 = len(data)/(2*np.bincount(df['default']))[0]\n",
    "w_1 = len(data)/(2*np.bincount(df['default']))[1]"
   ]
  },
  {
   "cell_type": "markdown",
   "id": "32a461ab",
   "metadata": {},
   "source": [
    "### Downsampling"
   ]
  },
  {
   "cell_type": "code",
   "execution_count": 452,
   "id": "bb52ef0d",
   "metadata": {
    "ExecuteTime": {
     "end_time": "2022-03-21T12:14:08.356150Z",
     "start_time": "2022-03-21T12:14:08.341153Z"
    }
   },
   "outputs": [],
   "source": [
    "n_samples = 1000"
   ]
  },
  {
   "cell_type": "code",
   "execution_count": 453,
   "id": "721f4c0a",
   "metadata": {
    "ExecuteTime": {
     "end_time": "2022-03-21T12:14:08.404151Z",
     "start_time": "2022-03-21T12:14:08.357152Z"
    }
   },
   "outputs": [],
   "source": [
    "train_data_sample_X = pd.DataFrame(data[~(y_train > 0).index]).sample(n_samples, random_state = 13).index\n",
    "test_data_sample_X = pd.DataFrame(data[~(y_test > 0).index]).sample(n_samples, random_state = 13).index\n",
    "\n",
    "train_data_sample_X = data[train_data_sample_X]\n",
    "test_data_sample_X = data[test_data_sample_X]\n",
    "\n",
    "train_data_sample_Y = data[y_train[(y_train == 1)].index]\n",
    "test_data_sample_Y = data[y_test[(y_test == 1)].index]\n",
    "\n",
    "train_data_sample_X = pd.DataFrame(np.concatenate((train_data_sample_X, train_data_sample_Y))).sample(frac = 1, random_state = 13)\n",
    "test_data_sample_X = pd.DataFrame(np.concatenate((test_data_sample_X, test_data_sample_Y))).sample(frac = 1, random_state = 13)\n",
    "\n",
    "train_labels = pd.DataFrame(np.concatenate((np.zeros(n_samples), np.ones(902)))).loc[train_data_sample_X.index].to_numpy()\n",
    "test_labels = pd.DataFrame(np.concatenate((np.zeros(n_samples), np.ones(386)))).loc[test_data_sample_X.index].to_numpy()\n",
    "\n",
    "train_data_sample_X = train_data_sample_X.to_numpy()\n",
    "test_data_sample_X = test_data_sample_X.to_numpy()"
   ]
  },
  {
   "cell_type": "code",
   "execution_count": null,
   "id": "5cbf2dc1",
   "metadata": {},
   "outputs": [],
   "source": []
  },
  {
   "cell_type": "code",
   "execution_count": 454,
   "id": "bc25adce",
   "metadata": {
    "ExecuteTime": {
     "end_time": "2022-03-21T12:14:08.420152Z",
     "start_time": "2022-03-21T12:14:08.405151Z"
    }
   },
   "outputs": [],
   "source": [
    "lgcv = LogisticRegressionCV(cv=10, random_state=13, class_weight = {0.:w_1, 1.: w_0}, solver = 'lbfgs')\n",
    "lg = LogisticRegressionCV(random_state=13, class_weight = {0.:w_1, 1.: w_0}, solver = 'lbfgs')\n",
    "random_forest = RandomForestClassifier(max_depth = 21, class_weight = {0.:w_1, 1.: w_0})"
   ]
  },
  {
   "cell_type": "markdown",
   "id": "7d28c804",
   "metadata": {},
   "source": [
    "#### if downsampled"
   ]
  },
  {
   "cell_type": "code",
   "execution_count": 455,
   "id": "29c5a02b",
   "metadata": {
    "ExecuteTime": {
     "end_time": "2022-03-21T12:14:08.436150Z",
     "start_time": "2022-03-21T12:14:08.421150Z"
    }
   },
   "outputs": [],
   "source": [
    "lgcv = LogisticRegressionCV(cv=10, random_state=13, solver = 'lbfgs')\n",
    "lg = LogisticRegression(random_state=13, solver = 'lbfgs')\n",
    "random_forest = RandomForestClassifier(max_depth = 15)"
   ]
  },
  {
   "cell_type": "markdown",
   "id": "b1b995f8",
   "metadata": {},
   "source": [
    "### training the classificator"
   ]
  },
  {
   "cell_type": "code",
   "execution_count": 456,
   "id": "c10f77c5",
   "metadata": {
    "ExecuteTime": {
     "end_time": "2022-03-21T12:14:08.674150Z",
     "start_time": "2022-03-21T12:14:08.437152Z"
    }
   },
   "outputs": [
    {
     "name": "stderr",
     "output_type": "stream",
     "text": [
      "C:\\Users\\gleb\\AppData\\Local\\Temp\\ipykernel_6460\\3589149351.py:2: DataConversionWarning: A column-vector y was passed when a 1d array was expected. Please change the shape of y to (n_samples,), for example using ravel().\n",
      "  clf.fit(data_tr, y_train.reshape(-1, 1))\n"
     ]
    }
   ],
   "source": [
    "clf = fitting(random_forest, train_data_sample_X, train_labels)"
   ]
  },
  {
   "cell_type": "code",
   "execution_count": 457,
   "id": "e8f25c30",
   "metadata": {
    "ExecuteTime": {
     "end_time": "2022-03-21T12:14:10.939150Z",
     "start_time": "2022-03-21T12:14:08.675152Z"
    }
   },
   "outputs": [
    {
     "name": "stdout",
     "output_type": "stream",
     "text": [
      "              precision    recall  f1-score   support\n",
      "\n",
      "         0.0       1.00      0.79      0.88     62081\n",
      "         1.0       0.06      0.98      0.12       902\n",
      "\n",
      "    accuracy                           0.80     62983\n",
      "   macro avg       0.53      0.89      0.50     62983\n",
      "weighted avg       0.99      0.80      0.87     62983\n",
      "\n",
      "              precision    recall  f1-score   support\n",
      "\n",
      "         0.0       1.00      0.80      0.89     26607\n",
      "         1.0       0.06      0.83      0.11       386\n",
      "\n",
      "    accuracy                           0.80     26993\n",
      "   macro avg       0.53      0.82      0.50     26993\n",
      "weighted avg       0.98      0.80      0.88     26993\n",
      "\n"
     ]
    },
    {
     "data": {
      "text/plain": [
       "(13731.0, 5579.0)"
      ]
     },
     "execution_count": 457,
     "metadata": {},
     "output_type": "execute_result"
    }
   ],
   "source": [
    "preds(clf)"
   ]
  },
  {
   "cell_type": "markdown",
   "id": "58f8153c",
   "metadata": {},
   "source": [
    "### Saving the model"
   ]
  },
  {
   "cell_type": "code",
   "execution_count": 458,
   "id": "019de173",
   "metadata": {
    "ExecuteTime": {
     "end_time": "2022-03-21T12:14:15.632024Z",
     "start_time": "2022-03-21T12:14:15.612025Z"
    }
   },
   "outputs": [],
   "source": [
    "with open('model.pickle', 'wb') as f:\n",
    "    pickle.dump(clf, f)"
   ]
  },
  {
   "cell_type": "markdown",
   "id": "33af27c7",
   "metadata": {},
   "source": [
    "### Loading the model"
   ]
  },
  {
   "cell_type": "code",
   "execution_count": 412,
   "id": "d8b429aa",
   "metadata": {
    "ExecuteTime": {
     "end_time": "2022-03-21T11:45:55.104557Z",
     "start_time": "2022-03-21T11:45:55.095554Z"
    }
   },
   "outputs": [],
   "source": [
    "cols_cat = pickle.load(open('cat_cols.pickle','rb'))"
   ]
  },
  {
   "cell_type": "code",
   "execution_count": 414,
   "id": "843108dc",
   "metadata": {
    "ExecuteTime": {
     "end_time": "2022-03-21T11:46:19.870571Z",
     "start_time": "2022-03-21T11:46:19.854572Z"
    }
   },
   "outputs": [],
   "source": [
    "cols_num = pickle.load(open('num_cols.pickle','rb'))"
   ]
  },
  {
   "cell_type": "code",
   "execution_count": 416,
   "id": "317e0b43",
   "metadata": {
    "ExecuteTime": {
     "end_time": "2022-03-21T11:46:37.937879Z",
     "start_time": "2022-03-21T11:46:37.921879Z"
    }
   },
   "outputs": [],
   "source": [
    "encoder = pickle.load(open('ohe.pickle','rb'))"
   ]
  },
  {
   "cell_type": "code",
   "execution_count": 409,
   "id": "bbe83b24",
   "metadata": {
    "ExecuteTime": {
     "end_time": "2022-03-21T11:44:28.681275Z",
     "start_time": "2022-03-21T11:44:28.656274Z"
    }
   },
   "outputs": [],
   "source": [
    "model = pickle.load(open('model.pickle','rb'))"
   ]
  },
  {
   "cell_type": "code",
   "execution_count": null,
   "id": "c1eafe6f",
   "metadata": {},
   "outputs": [],
   "source": []
  },
  {
   "cell_type": "markdown",
   "id": "ff1a1fbc",
   "metadata": {},
   "source": [
    "### Gridsearch"
   ]
  },
  {
   "cell_type": "code",
   "execution_count": 318,
   "id": "c79b55fd",
   "metadata": {
    "ExecuteTime": {
     "end_time": "2022-03-21T11:21:49.486624Z",
     "start_time": "2022-03-21T11:21:49.475617Z"
    }
   },
   "outputs": [],
   "source": [
    "from sklearn.model_selection import GridSearchCV"
   ]
  },
  {
   "cell_type": "code",
   "execution_count": 323,
   "id": "80e3ca8f",
   "metadata": {
    "ExecuteTime": {
     "end_time": "2022-03-21T11:25:24.948611Z",
     "start_time": "2022-03-21T11:25:24.930609Z"
    }
   },
   "outputs": [],
   "source": [
    "gclf = GridSearchCV(clf, {'max_depth': np.arange(1,41, 4)})"
   ]
  },
  {
   "cell_type": "code",
   "execution_count": 324,
   "id": "91040613",
   "metadata": {
    "ExecuteTime": {
     "end_time": "2022-03-21T11:29:39.508049Z",
     "start_time": "2022-03-21T11:25:25.062960Z"
    }
   },
   "outputs": [
    {
     "data": {
      "text/plain": [
       "GridSearchCV(estimator=RandomForestClassifier(),\n",
       "             param_grid={'max_depth': array([ 1,  5,  9, 13, 17, 21, 25, 29, 33, 37])})"
      ]
     },
     "execution_count": 324,
     "metadata": {},
     "output_type": "execute_result"
    }
   ],
   "source": [
    "gclf.fit(data[X_train], y_train)"
   ]
  },
  {
   "cell_type": "code",
   "execution_count": null,
   "id": "de046079",
   "metadata": {},
   "outputs": [],
   "source": []
  },
  {
   "cell_type": "code",
   "execution_count": null,
   "id": "76339e5c",
   "metadata": {},
   "outputs": [],
   "source": []
  },
  {
   "cell_type": "code",
   "execution_count": null,
   "id": "bd8dfa84",
   "metadata": {},
   "outputs": [],
   "source": []
  }
 ],
 "metadata": {
  "kernelspec": {
   "display_name": "Python 3 (ipykernel)",
   "language": "python",
   "name": "python3"
  },
  "language_info": {
   "codemirror_mode": {
    "name": "ipython",
    "version": 3
   },
   "file_extension": ".py",
   "mimetype": "text/x-python",
   "name": "python",
   "nbconvert_exporter": "python",
   "pygments_lexer": "ipython3",
   "version": "3.9.10"
  },
  "toc": {
   "base_numbering": 1,
   "nav_menu": {},
   "number_sections": false,
   "sideBar": true,
   "skip_h1_title": false,
   "title_cell": "Table of Contents",
   "title_sidebar": "Contents",
   "toc_cell": false,
   "toc_position": {},
   "toc_section_display": true,
   "toc_window_display": false
  }
 },
 "nbformat": 4,
 "nbformat_minor": 5
}
